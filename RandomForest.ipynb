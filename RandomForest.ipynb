{
  "cells": [
    {
      "metadata": {
        "_cell_guid": "1d879c04-699a-40d1-b44e-748b6cbf48ff",
        "_uuid": "3929889ab49200259badfd41c38138dcfeaea97d",
        "trusted": true
      },
      "cell_type": "code",
      "source": "# This Python 3 environment comes with many helpful analytics libraries installed\n# It is defined by the kaggle/python docker image: https://github.com/kaggle/docker-python\n# For example, here's several helpful packages to load in \n\nimport numpy as np # linear algebra\nimport pandas as pd # data processing, CSV file I/O (e.g. pd.read_csv)\nimport gc; gc.enable()\nfrom sklearn import preprocessing, linear_model, metrics\nimport matplotlib.pyplot as plt\n\n# Input data files are available in the \"../input/\" directory.\n# For example, running this (by clicking run or pressing Shift+Enter) will list the files in the input directory\n\nfrom subprocess import check_output\nprint(check_output([\"ls\", \"../input\"]).decode(\"utf8\"))\n\n# Any results you write to the current directory are saved as output.",
      "execution_count": 1,
      "outputs": [
        {
          "output_type": "stream",
          "text": "holidays_events.csv\nitems.csv\noil.csv\nsample_submission.csv\nstores.csv\ntest.csv\ntrain.csv\ntransactions.csv\n\n",
          "name": "stdout"
        }
      ]
    },
    {
      "metadata": {
        "collapsed": true,
        "_cell_guid": "a7ff9ed9-66ce-4c36-9f5d-f0906ad44cfb",
        "_uuid": "879f2c2b08cdb8cc7c03efc3809f5eea58ebf436",
        "trusted": true
      },
      "cell_type": "code",
      "source": "dtypes = {'id':'int64', 'item_nbr':'int32', 'store_nbr':'int8', 'onpromotion':str}\ndata = {\n    'tra': pd.read_csv('../input/train.csv', dtype=dtypes, parse_dates=['date']),\n    'tes': pd.read_csv('../input/test.csv', dtype=dtypes, parse_dates=['date']),\n    'ite': pd.read_csv('../input/items.csv'),\n    'sto': pd.read_csv('../input/stores.csv'),\n    'trn': pd.read_csv('../input/transactions.csv', parse_dates=['date']),\n    'hol': pd.read_csv('../input/holidays_events.csv', dtype={'transferred':str}, parse_dates=['date']),\n    'oil': pd.read_csv('../input/oil.csv', parse_dates=['date']),\n    }",
      "execution_count": 2,
      "outputs": []
    },
    {
      "metadata": {
        "collapsed": true,
        "_cell_guid": "bf3abe9e-11c4-4b39-9f17-43c83f7ec890",
        "_uuid": "c07f5ca970cd28bce57584ed9e7d477ba99c90a7",
        "trusted": true
      },
      "cell_type": "code",
      "source": "train = data['tra']#[(data['tra']['date'].dt.month == 8) & (data['tra']['date'].dt.day > 15)]\ntest = data['tes']#[(data['tes']['date'].dt.month == 8) & (data['test']['date'].dt.day > 15)]",
      "execution_count": 3,
      "outputs": []
    },
    {
      "metadata": {
        "_cell_guid": "1035be43-5d1d-44fc-b50e-b8400375d3ea",
        "_uuid": "95108c6a59bc03545f1fa8545d150e620c4093d5",
        "trusted": true
      },
      "cell_type": "code",
      "source": "train[\"item_nbr\"].value_counts(sort = True,ascending=False).nlargest(5)",
      "execution_count": 4,
      "outputs": [
        {
          "output_type": "execute_result",
          "execution_count": 4,
          "data": {
            "text/plain": "502331    83475\n314384    83450\n364606    83308\n265559    83047\n559870    82513\nName: item_nbr, dtype: int64"
          },
          "metadata": {}
        }
      ]
    },
    {
      "metadata": {
        "collapsed": true,
        "_cell_guid": "71f2d78f-fc33-411c-a8e4-fdcf5fcdd03a",
        "_uuid": "81b968807cbef7162be8c6cb2d94c8d0ba4bf33b",
        "trusted": true
      },
      "cell_type": "code",
      "source": "strain_502331= train[(train[\"item_nbr\"] == 502331)]\nstest_502331= test[(test[\"item_nbr\"] == 502331)]",
      "execution_count": 5,
      "outputs": []
    },
    {
      "metadata": {
        "_cell_guid": "36a19453-9a7d-45d0-9fd3-7d5e25b40c7d",
        "_uuid": "d04c56ba7749ccbbefb32bdd3be78be93e7026f3",
        "trusted": true
      },
      "cell_type": "code",
      "source": "strain = strain_502331\nstest = stest_502331\nprint(strain.shape,stest.shape)",
      "execution_count": 6,
      "outputs": [
        {
          "output_type": "stream",
          "text": "(83475, 6) (864, 5)\n",
          "name": "stdout"
        }
      ]
    },
    {
      "metadata": {
        "_cell_guid": "24340f8a-f944-4556-a612-36b58ed91170",
        "_uuid": "d639c151a598662fe4afee39ebbdb0c42a3bf01f",
        "trusted": true
      },
      "cell_type": "code",
      "source": "target = strain['unit_sales'].values\ntarget[target < 0.] = 0.\nstrain['unit_sales'] = target",
      "execution_count": 7,
      "outputs": [
        {
          "output_type": "stream",
          "text": "/opt/conda/lib/python3.6/site-packages/ipykernel_launcher.py:3: SettingWithCopyWarning: \nA value is trying to be set on a copy of a slice from a DataFrame.\nTry using .loc[row_indexer,col_indexer] = value instead\n\nSee the caveats in the documentation: http://pandas.pydata.org/pandas-docs/stable/indexing.html#indexing-view-versus-copy\n  This is separate from the ipykernel package so we can avoid doing imports until\n",
          "name": "stderr"
        }
      ]
    },
    {
      "metadata": {
        "collapsed": true,
        "_cell_guid": "70194033-db7e-480c-9f1a-c50d2c04c037",
        "_uuid": "28e7a2b0842f6905b336d6865c6b301b63fe3292",
        "trusted": true
      },
      "cell_type": "code",
      "source": "strain = pd.merge(strain, data['ite'], how='left', on=['item_nbr'])\nstrain = pd.merge(strain, data['sto'], how='left', on=['store_nbr'])\ndata_h_1 = data['hol'][data['hol']['locale'] == 'National'][['date','transferred']]\ndata_h_1['transferred'] = data_h_1['transferred'].map({'False': 0, 'True': 1})\nstrain = pd.merge(strain, data_h_1, how='left', on=['date'])\nstrain = pd.merge(strain, data['oil'], how='left', on=['date'])\n\nstest = pd.merge(stest, data['ite'], how='left', on=['item_nbr'])\nstest = pd.merge(stest, data['sto'], how='left', on=['store_nbr'])\ndata_h_t = data['hol'][data['hol']['locale'] == 'National'][['date','transferred']]\ndata_h_t['transferred'] = data_h_t['transferred'].map({'False': 0, 'True': 1})\nstest = pd.merge(stest, data_h_t, how='left', on=['date'])\nstest = pd.merge(stest, data['oil'], how='left', on=['date'])",
      "execution_count": 8,
      "outputs": []
    },
    {
      "metadata": {
        "collapsed": true,
        "_cell_guid": "eccded42-c066-4bcf-9e5e-d34fb433bf86",
        "_uuid": "56d01a48be91333df680018acf4ce9828210295f",
        "trusted": true
      },
      "cell_type": "code",
      "source": "from sklearn import preprocessing\ndef df_transform(df):\n    df['date'] = pd.to_datetime(df['date'])\n    df['yea'] = df['date'].dt.year\n    df['mon'] = df['date'].dt.month\n    df['day'] = df['date'].dt.day\n    df['dayofweek'] = df['date'].dt.dayofweek\n    df['onpromotion'] = df['onpromotion'].map({'False': 1, 'True': 2})\n    df['perishable'] = df['perishable'].map({0:1.0, 1:1.25})\n    df = df.fillna(0)\n    return df\ndef df_lbl_enc(df):\n    for c in df.columns:\n        if df[c].dtype == 'object':\n            lbl = preprocessing.LabelEncoder()\n            df[c] = lbl.fit_transform(df[c])\n            print(c)\n    return df\n",
      "execution_count": 9,
      "outputs": []
    },
    {
      "metadata": {
        "_cell_guid": "99a9eed1-522a-4458-bf9e-433d2790cc97",
        "_uuid": "acd2b002b4bb5a6b0ccd5eb0bb21db4658ba2262",
        "trusted": true
      },
      "cell_type": "code",
      "source": "strain_t = df_transform(strain)\nstrain_t_e = df_lbl_enc(strain_t)\n\nstest_t = df_transform(stest)\nstest_t_e = df_lbl_enc(stest_t)",
      "execution_count": 10,
      "outputs": [
        {
          "output_type": "stream",
          "text": "family\ncity\nstate\ntype\nfamily\ncity\nstate\ntype\n",
          "name": "stdout"
        }
      ]
    },
    {
      "metadata": {
        "collapsed": true,
        "_cell_guid": "e89df832-8bbf-4f5c-b4b2-1c699827b537",
        "_uuid": "43b17eecd32ae0a349db9aa571de01b791dbf480",
        "trusted": true
      },
      "cell_type": "code",
      "source": "strain_t_e_dateIndex = strain_t_e.set_index('date')\nstest_t_e_dateIndex = stest_t_e.set_index('date')\n\ncol =[c for c in strain_t_e_dateIndex if c not in ['id','item_nbr','mon','class','city','cluster','unit_sales']]\ntrain_features = strain_t_e_dateIndex[col]\ntarget = np.log1p(strain_t_e_dateIndex[['unit_sales']])\n\ncol =[c for c in stest_t_e_dateIndex if c not in ['id','item_nbr','mon','class','city','cluster']]\nfeatures = stest_t_e_dateIndex[col]",
      "execution_count": 11,
      "outputs": []
    },
    {
      "metadata": {
        "collapsed": true,
        "_cell_guid": "a2044fb0-1e3d-4a39-a1b4-1c0dc83ca138",
        "_uuid": "e384e0b1ad15a1355033885228daed7eea60fbbd",
        "trusted": true
      },
      "cell_type": "code",
      "source": "from sklearn.model_selection import train_test_split\n\nX_train = train_features['2013':'2016']\nX_test = train_features['2017']\ny_train = target['2013':'2016']\ny_test = target['2017']\n\n#X_train, X_test, y_train, y_test = train_test_split(train_features, target, test_size=0.20, random_state=42)",
      "execution_count": 12,
      "outputs": []
    },
    {
      "metadata": {
        "collapsed": true,
        "_cell_guid": "d5f8dd20-9f37-4923-9e20-950f881f7d5e",
        "_uuid": "015032ab61bbd6680f33f1572bdf4b6e6da61821",
        "trusted": true
      },
      "cell_type": "code",
      "source": "W_train = X_train['perishable']#.map({0:1.0, 1:1.25})\nW_test = X_test['perishable']#.map({0:1.0, 1:1.25})\n#W_train = W_train.fillna(0)\n#W_test = W_test.fillna(0)",
      "execution_count": 13,
      "outputs": []
    },
    {
      "metadata": {
        "collapsed": true,
        "_cell_guid": "c2f01f06-e767-49fc-be61-780b00a2fa19",
        "_uuid": "5132c016fe2c71a9230d72ffc6f3c88b46793e34",
        "trusted": true
      },
      "cell_type": "code",
      "source": "from sklearn import metrics\ndef NWRMSLE(y, pred, w):\n    return metrics.mean_squared_error(y, pred, sample_weight=w)**0.5",
      "execution_count": 14,
      "outputs": []
    },
    {
      "metadata": {
        "_cell_guid": "a102393f-02d2-4c0c-acd3-f81346388c3c",
        "_uuid": "9a5acd15fa32e249490f47c842cf1909960d448e",
        "trusted": true
      },
      "cell_type": "code",
      "source": "from sklearn.tree import DecisionTreeRegressor\nfrom sklearn.ensemble import RandomForestRegressor\nfrom sklearn import cross_validation\n\nrf = RandomForestRegressor(max_features = \"auto\", min_samples_leaf = 50,n_estimators = 100,random_state =50,oob_score =True )\n\nrf.fit(X_train, y_train)\nprint ('RF accuracy: TRAINING', rf.score(X_train,y_train,W_train))\nprint ('RF accuracy: TESTING', rf.score(X_test,y_test,W_test))\nprint(\"feature Importance\",rf.feature_importances_)\nyhat1 = rf.predict(X_test)\nprint('NWRMSLE RF',NWRMSLE((y_test),(yhat1),W_test.values ))",
      "execution_count": 15,
      "outputs": [
        {
          "output_type": "stream",
          "text": "/opt/conda/lib/python3.6/site-packages/sklearn/cross_validation.py:41: DeprecationWarning: This module was deprecated in version 0.18 in favor of the model_selection module into which all the refactored classes and functions are moved. Also note that the interface of the new CV iterators are different from that of this module. This module will be removed in 0.20.\n  \"This module will be removed in 0.20.\", DeprecationWarning)\n/opt/conda/lib/python3.6/site-packages/ipykernel_launcher.py:7: DataConversionWarning: A column-vector y was passed when a 1d array was expected. Please change the shape of y to (n_samples,), for example using ravel().\n  import sys\n",
          "name": "stderr"
        },
        {
          "output_type": "stream",
          "text": "RF accuracy: TRAINING 0.771417463539\nRF accuracy: TESTING 0.748201438787\nfeature Importance [ 0.51121207  0.00445504  0.          0.          0.1030354   0.16696161\n  0.          0.01746875  0.04472853  0.01091761  0.14122098]\nNWRMSLE RF 0.322782339177\n",
          "name": "stdout"
        }
      ]
    },
    {
      "metadata": {
        "_cell_guid": "40bd86b5-0093-4e21-ae82-37ea2d9fb229",
        "_uuid": "6e37cffb3160ad6f5a50c3215d84d0ed0fea7c01",
        "trusted": true
      },
      "cell_type": "code",
      "source": "y_test['pred']=yhat1\nplt.plot(y_test['unit_sales'])\nplt.plot(y_test['pred'])\nplt.show()",
      "execution_count": 16,
      "outputs": [
        {
          "output_type": "stream",
          "text": "/opt/conda/lib/python3.6/site-packages/ipykernel_launcher.py:1: SettingWithCopyWarning: \nA value is trying to be set on a copy of a slice from a DataFrame.\nTry using .loc[row_indexer,col_indexer] = value instead\n\nSee the caveats in the documentation: http://pandas.pydata.org/pandas-docs/stable/indexing.html#indexing-view-versus-copy\n  \"\"\"Entry point for launching an IPython kernel.\n",
          "name": "stderr"
        },
        {
          "output_type": "display_data",
          "data": {
            "text/plain": "<matplotlib.figure.Figure at 0x7fe9089ca780>",
            "image/png": "[encoded data removed]"
          },
          "metadata": {}
        }
      ]
    }
  ],
  "metadata": {
    "kernelspec": {
      "display_name": "Python 3",
      "language": "python",
      "name": "python3"
    },
    "language_info": {
      "name": "python",
      "version": "3.6.3",
      "mimetype": "text/x-python",
      "codemirror_mode": {
        "name": "ipython",
        "version": 3
      },
      "pygments_lexer": "ipython3",
      "nbconvert_exporter": "python",
      "file_extension": ".py"
    }
  },
  "nbformat": 4,
  "nbformat_minor": 1
}